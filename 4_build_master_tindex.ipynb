{
 "cells": [
  {
   "cell_type": "markdown",
   "metadata": {},
   "source": [
    "# Merge County-level Tile Indices\n"
   ]
  },
  {
   "cell_type": "code",
   "execution_count": 1,
   "metadata": {},
   "outputs": [],
   "source": [
    "import os\n",
    "import pandas as pd\n",
    "import geopandas as gpd"
   ]
  },
  {
   "cell_type": "markdown",
   "metadata": {},
   "source": [
    "### Discover Tile Indices\n"
   ]
  },
  {
   "cell_type": "code",
   "execution_count": 2,
   "metadata": {},
   "outputs": [
    {
     "name": "stdout",
     "output_type": "stream",
     "text": [
      "INFO: 80 tile indices found.\n"
     ]
    }
   ],
   "source": [
    "lidar_path = '../lidar'\n",
    "counties = sorted(os.listdir(lidar_path))\n",
    "indices = [os.path.join(lidar_path, c, 'tiles.gpkg') for c in counties \n",
    "          if os.path.exists(os.path.join(lidar_path, c, 'tiles.gpkg'))]\n",
    "print(f'INFO: {len(indices)} tile indices found.')"
   ]
  },
  {
   "cell_type": "markdown",
   "metadata": {},
   "source": [
    "### Merge Tile Indices\n",
    "Read each tile index into GeoPandas dataframe and concatenate them together."
   ]
  },
  {
   "cell_type": "code",
   "execution_count": 3,
   "metadata": {},
   "outputs": [
    {
     "name": "stdout",
     "output_type": "stream",
     "text": [
      "<class 'geopandas.geodataframe.GeoDataFrame'>\n",
      "RangeIndex: 267188 entries, 0 to 267187\n",
      "Data columns (total 5 columns):\n",
      "location    267188 non-null object\n",
      "srs         267188 non-null object\n",
      "modified    267188 non-null object\n",
      "created     267188 non-null object\n",
      "geometry    267188 non-null object\n",
      "dtypes: object(5)\n",
      "memory usage: 10.2+ MB\n"
     ]
    }
   ],
   "source": [
    "frames = [gpd.read_file(i) for i in indices]\n",
    "tindex = pd.concat(frames, ignore_index=True)\n",
    "tindex.info()"
   ]
  },
  {
   "cell_type": "markdown",
   "metadata": {},
   "source": [
    "### Setting Relative Path\n",
    "When PDAL creates the tindex it provides the LAS file path in the _location_ field. Unfortuately, the path created is an absolute path made worse because the full path may not exist on any given machine. Therefore, we'll convert it to a relative path. \n",
    "\n",
    "The true path can now be constructed by concatenating the path the to the lidar folder with the relative path found within the _location_ field.\n",
    "Within notebooks, this would most likely be '../lidar'. More importantly, the relative path can be combined with a URL to allow remote access of the LAS files."
   ]
  },
  {
   "cell_type": "code",
   "execution_count": 8,
   "metadata": {},
   "outputs": [
    {
     "name": "stdout",
     "output_type": "stream",
     "text": [
      "ERROR: location missing lidar directory\n"
     ]
    },
    {
     "data": {
      "text/html": [
       "<div>\n",
       "<style scoped>\n",
       "    .dataframe tbody tr th:only-of-type {\n",
       "        vertical-align: middle;\n",
       "    }\n",
       "\n",
       "    .dataframe tbody tr th {\n",
       "        vertical-align: top;\n",
       "    }\n",
       "\n",
       "    .dataframe thead th {\n",
       "        text-align: right;\n",
       "    }\n",
       "</style>\n",
       "<table border=\"1\" class=\"dataframe\">\n",
       "  <thead>\n",
       "    <tr style=\"text-align: right;\">\n",
       "      <th></th>\n",
       "      <th>location</th>\n",
       "      <th>srs</th>\n",
       "      <th>modified</th>\n",
       "      <th>created</th>\n",
       "      <th>geometry</th>\n",
       "    </tr>\n",
       "  </thead>\n",
       "  <tbody>\n",
       "    <tr>\n",
       "      <th>0</th>\n",
       "      <td>adams/las_classified/1280_1930.las</td>\n",
       "      <td>EPSG:26972</td>\n",
       "      <td>2009-10-20T00:37:09</td>\n",
       "      <td>2018-12-13T21:46:57</td>\n",
       "      <td>POLYGON ((-91.47852667224002 40.17411279626138...</td>\n",
       "    </tr>\n",
       "    <tr>\n",
       "      <th>1</th>\n",
       "      <td>adams/las_classified/1156_2086.las</td>\n",
       "      <td>EPSG:26972</td>\n",
       "      <td>2009-10-19T22:34:02</td>\n",
       "      <td>2018-12-13T21:46:57</td>\n",
       "      <td>POLYGON ((-90.91659129758993 39.83871065542411...</td>\n",
       "    </tr>\n",
       "    <tr>\n",
       "      <th>2</th>\n",
       "      <td>adams/las_classified/2066_1216.las</td>\n",
       "      <td>EPSG:3444</td>\n",
       "      <td>2009-10-19T23:56:13</td>\n",
       "      <td>2018-12-13T21:46:57</td>\n",
       "      <td>POLYGON ((-90.98977805630592 40.0029290734882,...</td>\n",
       "    </tr>\n",
       "    <tr>\n",
       "      <th>3</th>\n",
       "      <td>adams/las_classified/1966_1234.las</td>\n",
       "      <td>EPSG:3444</td>\n",
       "      <td>2009-10-19T22:18:49</td>\n",
       "      <td>2018-12-13T21:46:57</td>\n",
       "      <td>POLYGON ((-91.34753807035025 40.04924836807506...</td>\n",
       "    </tr>\n",
       "    <tr>\n",
       "      <th>4</th>\n",
       "      <td>adams/las_classified/1240_1992.las</td>\n",
       "      <td>EPSG:26972</td>\n",
       "      <td>2009-10-19T23:15:51</td>\n",
       "      <td>2018-12-13T21:46:57</td>\n",
       "      <td>POLYGON ((-91.25494238878736 40.06662605018638...</td>\n",
       "    </tr>\n",
       "    <tr>\n",
       "      <th>5</th>\n",
       "      <td>adams/las_classified/1158_2038.las</td>\n",
       "      <td>EPSG:26972</td>\n",
       "      <td>2009-10-19T22:36:31</td>\n",
       "      <td>2018-12-13T21:46:57</td>\n",
       "      <td>POLYGON ((-91.08758222031362 39.84296981592355...</td>\n",
       "    </tr>\n",
       "    <tr>\n",
       "      <th>6</th>\n",
       "      <td>adams/las_classified/1126_2046.las</td>\n",
       "      <td>EPSG:26972</td>\n",
       "      <td>2009-10-19T21:41:56</td>\n",
       "      <td>2018-12-13T21:46:57</td>\n",
       "      <td>POLYGON ((-91.05795973768863 39.75535188608443...</td>\n",
       "    </tr>\n",
       "    <tr>\n",
       "      <th>7</th>\n",
       "      <td>adams/las_classified/2060_1228.las</td>\n",
       "      <td>EPSG:3444</td>\n",
       "      <td>2009-10-19T23:51:00</td>\n",
       "      <td>2018-12-13T21:46:57</td>\n",
       "      <td>POLYGON ((-91.0116002011097 40.03571439480291,...</td>\n",
       "    </tr>\n",
       "    <tr>\n",
       "      <th>8</th>\n",
       "      <td>adams/las_classified/1174_2038.las</td>\n",
       "      <td>EPSG:26972</td>\n",
       "      <td>2009-10-19T23:04:59</td>\n",
       "      <td>2018-12-13T21:46:57</td>\n",
       "      <td>POLYGON ((-91.08816970331856 39.88688925416636...</td>\n",
       "    </tr>\n",
       "    <tr>\n",
       "      <th>9</th>\n",
       "      <td>adams/las_classified/1240_1962.las</td>\n",
       "      <td>EPSG:26972</td>\n",
       "      <td>2009-10-19T23:15:08</td>\n",
       "      <td>2018-12-13T21:46:57</td>\n",
       "      <td>POLYGON ((-91.36211132637541 40.06556968564359...</td>\n",
       "    </tr>\n",
       "  </tbody>\n",
       "</table>\n",
       "</div>"
      ],
      "text/plain": [
       "                             location         srs             modified  \\\n",
       "0  adams/las_classified/1280_1930.las  EPSG:26972  2009-10-20T00:37:09   \n",
       "1  adams/las_classified/1156_2086.las  EPSG:26972  2009-10-19T22:34:02   \n",
       "2  adams/las_classified/2066_1216.las   EPSG:3444  2009-10-19T23:56:13   \n",
       "3  adams/las_classified/1966_1234.las   EPSG:3444  2009-10-19T22:18:49   \n",
       "4  adams/las_classified/1240_1992.las  EPSG:26972  2009-10-19T23:15:51   \n",
       "5  adams/las_classified/1158_2038.las  EPSG:26972  2009-10-19T22:36:31   \n",
       "6  adams/las_classified/1126_2046.las  EPSG:26972  2009-10-19T21:41:56   \n",
       "7  adams/las_classified/2060_1228.las   EPSG:3444  2009-10-19T23:51:00   \n",
       "8  adams/las_classified/1174_2038.las  EPSG:26972  2009-10-19T23:04:59   \n",
       "9  adams/las_classified/1240_1962.las  EPSG:26972  2009-10-19T23:15:08   \n",
       "\n",
       "               created                                           geometry  \n",
       "0  2018-12-13T21:46:57  POLYGON ((-91.47852667224002 40.17411279626138...  \n",
       "1  2018-12-13T21:46:57  POLYGON ((-90.91659129758993 39.83871065542411...  \n",
       "2  2018-12-13T21:46:57  POLYGON ((-90.98977805630592 40.0029290734882,...  \n",
       "3  2018-12-13T21:46:57  POLYGON ((-91.34753807035025 40.04924836807506...  \n",
       "4  2018-12-13T21:46:57  POLYGON ((-91.25494238878736 40.06662605018638...  \n",
       "5  2018-12-13T21:46:57  POLYGON ((-91.08758222031362 39.84296981592355...  \n",
       "6  2018-12-13T21:46:57  POLYGON ((-91.05795973768863 39.75535188608443...  \n",
       "7  2018-12-13T21:46:57  POLYGON ((-91.0116002011097 40.03571439480291,...  \n",
       "8  2018-12-13T21:46:57  POLYGON ((-91.08816970331856 39.88688925416636...  \n",
       "9  2018-12-13T21:46:57  POLYGON ((-91.36211132637541 40.06556968564359...  "
      ]
     },
     "execution_count": 8,
     "metadata": {},
     "output_type": "execute_result"
    }
   ],
   "source": [
    "try:\n",
    "    tindex['location'] = tindex['location'].apply(lambda i: i[i.index('lidar/')+6:])\n",
    "except ValueError as e:\n",
    "    print('ERROR: location missing lidar directory')\n",
    "tindex.head(10)"
   ]
  },
  {
   "cell_type": "markdown",
   "metadata": {},
   "source": [
    "### List All Projections\n",
    "The tile index maintains LAS boundaries in geometric coordinates but the LAS files come in a wide variety of projected coordinate system. The native projection of each LAS is stored in the _srs_ field. "
   ]
  },
  {
   "cell_type": "code",
   "execution_count": 9,
   "metadata": {},
   "outputs": [
    {
     "name": "stdout",
     "output_type": "stream",
     "text": [
      "+proj=tmerc +lat_0=36.66666666666666 +lon_0=-88.33333333333333 +k=0.9999749999999999 +x_0=300000.0000000001 +y_0=0 +ellps=GRS80 +units=us-ft +vunits=us-ft +no_defs \n",
      "+proj=tmerc +lat_0=36.6666666666667 +lon_0=-88.3333333333333 +k=0.9999749999999999 +x_0=300000.0000000001 +y_0=0 +ellps=GRS80 +units=us-ft +vunits=us-ft +no_defs \n",
      "+proj=tmerc +lat_0=36.6666666666667 +lon_0=-90.1666666666667 +k=0.999941176470588 +x_0=699999.9999999993 +y_0=0 +ellps=GRS80 +units=us-ft +vunits=us-ft +no_defs \n",
      "EPSG:26915\n",
      "EPSG:26916\n",
      "EPSG:26972\n",
      "EPSG:3443\n",
      "EPSG:3444\n",
      "EPSG:3531\n",
      "EPSG:6455\n",
      "EPSG:6457\n"
     ]
    }
   ],
   "source": [
    "print('\\n'.join(sorted(tindex['srs'].unique())))"
   ]
  },
  {
   "cell_type": "markdown",
   "metadata": {},
   "source": [
    "__NOTE:__ many of the LAS files were missing projection information entirely and a small number even had incorrect projections. See the *proj_fix.ipynb* for details. "
   ]
  },
  {
   "cell_type": "markdown",
   "metadata": {},
   "source": [
    "### Write Master Index\n"
   ]
  },
  {
   "cell_type": "code",
   "execution_count": 10,
   "metadata": {},
   "outputs": [
    {
     "name": "stdout",
     "output_type": "stream",
     "text": [
      "file written: 76140544 bytes\n"
     ]
    }
   ],
   "source": [
    "tindex.to_file('../LAS_tindex.gpkg', driver='GPKG')\n",
    "print(f'file written: {os.path.getsize(\"../LAS_tindex.gpkg\")} bytes')"
   ]
  }
 ],
 "metadata": {
  "kernelspec": {
   "display_name": "Python 3",
   "language": "python",
   "name": "python3"
  },
  "language_info": {
   "codemirror_mode": {
    "name": "ipython",
    "version": 3
   },
   "file_extension": ".py",
   "mimetype": "text/x-python",
   "name": "python",
   "nbconvert_exporter": "python",
   "pygments_lexer": "ipython3",
   "version": "3.6.7"
  }
 },
 "nbformat": 4,
 "nbformat_minor": 2
}
