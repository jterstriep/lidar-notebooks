{
 "cells": [
  {
   "cell_type": "markdown",
   "metadata": {},
   "source": [
    "# Create DEM Files\n",
    "The final step would be to create actual DEM files and populate the DEM tindex with actual file locations.\n",
    "Unfortunately, the computation requirements of processing all the LAS files and producing over 1000 DEM tiles exceed\n",
    "what is practical to perform within a notebook. Rather, this notebook provides some of the example methods for\n",
    "processing the DEM tile index, locating the relevant LAS files by querying the LAS tile index, and creating DEM files\n",
    "in different computing environments."
   ]
  },
  {
   "cell_type": "code",
   "execution_count": 38,
   "metadata": {},
   "outputs": [],
   "source": [
    "%matplotlib inline\n",
    "import os\n",
    "import matplotlib.pyplot as plt\n",
    "import geopandas as gpd\n",
    "import numpy as np"
   ]
  },
  {
   "cell_type": "markdown",
   "metadata": {},
   "source": [
    "### Load the LAS tile index"
   ]
  },
  {
   "cell_type": "code",
   "execution_count": 13,
   "metadata": {},
   "outputs": [
    {
     "data": {
      "text/html": [
       "<div>\n",
       "<style scoped>\n",
       "    .dataframe tbody tr th:only-of-type {\n",
       "        vertical-align: middle;\n",
       "    }\n",
       "\n",
       "    .dataframe tbody tr th {\n",
       "        vertical-align: top;\n",
       "    }\n",
       "\n",
       "    .dataframe thead th {\n",
       "        text-align: right;\n",
       "    }\n",
       "</style>\n",
       "<table border=\"1\" class=\"dataframe\">\n",
       "  <thead>\n",
       "    <tr style=\"text-align: right;\">\n",
       "      <th></th>\n",
       "      <th>location</th>\n",
       "      <th>srs</th>\n",
       "      <th>modified</th>\n",
       "      <th>created</th>\n",
       "      <th>geometry</th>\n",
       "    </tr>\n",
       "  </thead>\n",
       "  <tbody>\n",
       "    <tr>\n",
       "      <th>0</th>\n",
       "      <td>adams/las_classified/1280_1930.las</td>\n",
       "      <td>EPSG:26972</td>\n",
       "      <td>2009-10-20T00:37:09</td>\n",
       "      <td>2018-12-13T21:46:57</td>\n",
       "      <td>POLYGON ((-91.47852667224002 40.17411279626138...</td>\n",
       "    </tr>\n",
       "    <tr>\n",
       "      <th>1</th>\n",
       "      <td>adams/las_classified/1156_2086.las</td>\n",
       "      <td>EPSG:26972</td>\n",
       "      <td>2009-10-19T22:34:02</td>\n",
       "      <td>2018-12-13T21:46:57</td>\n",
       "      <td>POLYGON ((-90.91659129758993 39.83871065542411...</td>\n",
       "    </tr>\n",
       "    <tr>\n",
       "      <th>2</th>\n",
       "      <td>adams/las_classified/2066_1216.las</td>\n",
       "      <td>EPSG:3444</td>\n",
       "      <td>2009-10-19T23:56:13</td>\n",
       "      <td>2018-12-13T21:46:57</td>\n",
       "      <td>POLYGON ((-90.98977805630592 40.0029290734882,...</td>\n",
       "    </tr>\n",
       "    <tr>\n",
       "      <th>3</th>\n",
       "      <td>adams/las_classified/1966_1234.las</td>\n",
       "      <td>EPSG:3444</td>\n",
       "      <td>2009-10-19T22:18:49</td>\n",
       "      <td>2018-12-13T21:46:57</td>\n",
       "      <td>POLYGON ((-91.34753807035025 40.04924836807506...</td>\n",
       "    </tr>\n",
       "    <tr>\n",
       "      <th>4</th>\n",
       "      <td>adams/las_classified/1240_1992.las</td>\n",
       "      <td>EPSG:26972</td>\n",
       "      <td>2009-10-19T23:15:51</td>\n",
       "      <td>2018-12-13T21:46:57</td>\n",
       "      <td>POLYGON ((-91.25494238878736 40.06662605018638...</td>\n",
       "    </tr>\n",
       "  </tbody>\n",
       "</table>\n",
       "</div>"
      ],
      "text/plain": [
       "                             location         srs             modified  \\\n",
       "0  adams/las_classified/1280_1930.las  EPSG:26972  2009-10-20T00:37:09   \n",
       "1  adams/las_classified/1156_2086.las  EPSG:26972  2009-10-19T22:34:02   \n",
       "2  adams/las_classified/2066_1216.las   EPSG:3444  2009-10-19T23:56:13   \n",
       "3  adams/las_classified/1966_1234.las   EPSG:3444  2009-10-19T22:18:49   \n",
       "4  adams/las_classified/1240_1992.las  EPSG:26972  2009-10-19T23:15:51   \n",
       "\n",
       "               created                                           geometry  \n",
       "0  2018-12-13T21:46:57  POLYGON ((-91.47852667224002 40.17411279626138...  \n",
       "1  2018-12-13T21:46:57  POLYGON ((-90.91659129758993 39.83871065542411...  \n",
       "2  2018-12-13T21:46:57  POLYGON ((-90.98977805630592 40.0029290734882,...  \n",
       "3  2018-12-13T21:46:57  POLYGON ((-91.34753807035025 40.04924836807506...  \n",
       "4  2018-12-13T21:46:57  POLYGON ((-91.25494238878736 40.06662605018638...  "
      ]
     },
     "execution_count": 13,
     "metadata": {},
     "output_type": "execute_result"
    }
   ],
   "source": [
    "lti = gpd.read_file('../lidar/LAS_tindex.gpkg')\n",
    "lti.head()"
   ]
  },
  {
   "cell_type": "markdown",
   "metadata": {},
   "source": [
    "### Load the DEM tile index"
   ]
  },
  {
   "cell_type": "code",
   "execution_count": 14,
   "metadata": {},
   "outputs": [
    {
     "data": {
      "text/html": [
       "<div>\n",
       "<style scoped>\n",
       "    .dataframe tbody tr th:only-of-type {\n",
       "        vertical-align: middle;\n",
       "    }\n",
       "\n",
       "    .dataframe tbody tr th {\n",
       "        vertical-align: top;\n",
       "    }\n",
       "\n",
       "    .dataframe thead th {\n",
       "        text-align: right;\n",
       "    }\n",
       "</style>\n",
       "<table border=\"1\" class=\"dataframe\">\n",
       "  <thead>\n",
       "    <tr style=\"text-align: right;\">\n",
       "      <th></th>\n",
       "      <th>srs</th>\n",
       "      <th>zone</th>\n",
       "      <th>name</th>\n",
       "      <th>geometry</th>\n",
       "    </tr>\n",
       "  </thead>\n",
       "  <tbody>\n",
       "    <tr>\n",
       "      <th>0</th>\n",
       "      <td>EPSG:3443</td>\n",
       "      <td>east</td>\n",
       "      <td>east_719_178</td>\n",
       "      <td>POLYGON ((-89.29442519763219 41.56450650515664...</td>\n",
       "    </tr>\n",
       "    <tr>\n",
       "      <th>1</th>\n",
       "      <td>EPSG:3443</td>\n",
       "      <td>east</td>\n",
       "      <td>east_719_174</td>\n",
       "      <td>POLYGON ((-89.29276436950822 41.45210485851405...</td>\n",
       "    </tr>\n",
       "    <tr>\n",
       "      <th>2</th>\n",
       "      <td>EPSG:3443</td>\n",
       "      <td>east</td>\n",
       "      <td>east_719_170</td>\n",
       "      <td>POLYGON ((-89.29111293732947 41.33970092370969...</td>\n",
       "    </tr>\n",
       "    <tr>\n",
       "      <th>3</th>\n",
       "      <td>EPSG:3443</td>\n",
       "      <td>east</td>\n",
       "      <td>east_719_166</td>\n",
       "      <td>POLYGON ((-89.28947084013322 41.22729470219819...</td>\n",
       "    </tr>\n",
       "    <tr>\n",
       "      <th>4</th>\n",
       "      <td>EPSG:3443</td>\n",
       "      <td>east</td>\n",
       "      <td>east_719_161</td>\n",
       "      <td>POLYGON ((-89.28783801753076 41.11488619546482...</td>\n",
       "    </tr>\n",
       "  </tbody>\n",
       "</table>\n",
       "</div>"
      ],
      "text/plain": [
       "         srs  zone          name  \\\n",
       "0  EPSG:3443  east  east_719_178   \n",
       "1  EPSG:3443  east  east_719_174   \n",
       "2  EPSG:3443  east  east_719_170   \n",
       "3  EPSG:3443  east  east_719_166   \n",
       "4  EPSG:3443  east  east_719_161   \n",
       "\n",
       "                                            geometry  \n",
       "0  POLYGON ((-89.29442519763219 41.56450650515664...  \n",
       "1  POLYGON ((-89.29276436950822 41.45210485851405...  \n",
       "2  POLYGON ((-89.29111293732947 41.33970092370969...  \n",
       "3  POLYGON ((-89.28947084013322 41.22729470219819...  \n",
       "4  POLYGON ((-89.28783801753076 41.11488619546482...  "
      ]
     },
     "execution_count": 14,
     "metadata": {},
     "output_type": "execute_result"
    }
   ],
   "source": [
    "dti = gpd.read_file('../dem/DEM_tindex.gpkg')\n",
    "dti.head()"
   ]
  },
  {
   "cell_type": "markdown",
   "metadata": {},
   "source": [
    "### Locate LAS files overlapping DEM tile\n",
    "Using an arbitrary DEM tile taken from the DEM tile index extract a list of LAS files necessary for creating the DEM file."
   ]
  },
  {
   "cell_type": "code",
   "execution_count": 43,
   "metadata": {},
   "outputs": [
    {
     "name": "stdout",
     "output_type": "stream",
     "text": [
      "436 overlapping LAS files found\n",
      "\n",
      "Relative path to first 10 LAS files: ['fayette/las/730_800.las', 'fayette/las/738_788.las', 'fayette/las/748_780.las', 'fayette/las/752_800.las', 'fayette/las/746_776.las', 'fayette/las/748_802.las', 'fayette/las/732_774.las', 'fayette/las/762_786.las', 'fayette/las/750_786.las', 'fayette/las/736_778.las']\n"
     ]
    }
   ],
   "source": [
    "region = dti.iloc[20]\n",
    "tiles = lti[lti.geometry.intersects(region['geometry'])]\n",
    "print(f'{len(tiles)} overlapping LAS files found\\n')\n",
    "files = list(tiles['location'])\n",
    "print(f'Relative path to first 10 LAS files: {files[:10]}')"
   ]
  },
  {
   "cell_type": "markdown",
   "metadata": {},
   "source": [
    "### Create a file with all the LAS files\n",
    "Using the single DEM tile from the previous example, create a txt file with the absolute path to all the necessary\n",
    "LAS files used to create a DEM tile. The file is named based on the *name* field of the DEM tile. This file is appropriate\n",
    "for use as input to PDAL or pp2g."
   ]
  },
  {
   "cell_type": "code",
   "execution_count": 41,
   "metadata": {},
   "outputs": [
    {
     "name": "stdout",
     "output_type": "stream",
     "text": [
      "../east_719_759_las_files.txt created with 436 files\n"
     ]
    }
   ],
   "source": [
    "fname = f'../{region[\"name\"]}_las_files.txt'\n",
    "absfiles = [os.path.join('/mnt/nrcs/isgs/lidar', f) for f in files]\n",
    "with open(fname, 'w') as f:\n",
    "    f.write('\\n'.join(absfiles))\n",
    "print(f'{fname} created with {len(absfiles)} files')"
   ]
  },
  {
   "cell_type": "markdown",
   "metadata": {},
   "source": [
    "### Run PP2G using file list as input\n",
    "PP2G is not installed within the notebook kernel so the following command will not work. It is provided as an\n",
    "example of running pp2g from the command line.\n",
    "```\n",
    "$ mpirun -np 8 /app/p_points2grid -o dem/east_719_759.tif -m parallel -c 4 --mean --fill --fill_window_size=7 \n",
    "  --bigtiff=1 --last_returns --output_format tif --resolution 5 -b 1000000 -t -f east_719_759_las_files.txt\n",
    "```\n"
   ]
  },
  {
   "cell_type": "code",
   "execution_count": null,
   "metadata": {},
   "outputs": [],
   "source": []
  }
 ],
 "metadata": {
  "kernelspec": {
   "display_name": "Python 3",
   "language": "python",
   "name": "python3"
  },
  "language_info": {
   "codemirror_mode": {
    "name": "ipython",
    "version": 3
   },
   "file_extension": ".py",
   "mimetype": "text/x-python",
   "name": "python",
   "nbconvert_exporter": "python",
   "pygments_lexer": "ipython3",
   "version": "3.6.7"
  }
 },
 "nbformat": 4,
 "nbformat_minor": 2
}
