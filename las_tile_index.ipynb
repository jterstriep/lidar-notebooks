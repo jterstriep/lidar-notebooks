{
 "cells": [
  {
   "cell_type": "markdown",
   "metadata": {},
   "source": [
    "# Inspect the LAS file tile index\n",
    "The LAS file tile index is a geospatial file where each LAS file's spatial extent is represented as a polygonal feature within the vector layer. Attributes associated with a feature include, at a minimum, the path to the LAS file. Using the tile index it is easy to find all LAS files that fall within a spatial extent or county boundary or watershed boundary. \n",
    "\n"
   ]
  },
  {
   "cell_type": "code",
   "execution_count": 77,
   "metadata": {},
   "outputs": [
    {
     "name": "stdout",
     "output_type": "stream",
     "text": [
      "Database contains 18639 LAS files\n"
     ]
    }
   ],
   "source": [
    "from osgeo import ogr\n",
    "\n",
    "database = 'lidar/tiles2.gpkg'\n",
    "tindex = ogr.Open(database)\n",
    "layer = tindex.GetLayer()\n",
    "print('Database contains {} LAS files'.format(layer.GetFeatureCount()))"
   ]
  },
  {
   "cell_type": "code",
   "execution_count": 146,
   "metadata": {},
   "outputs": [
    {
     "name": "stdout",
     "output_type": "stream",
     "text": [
      "<class 'geopandas.geodataframe.GeoDataFrame'>\n",
      "RangeIndex: 8807 entries, 0 to 8806\n",
      "Data columns (total 5 columns):\n",
      "location    8807 non-null object\n",
      "srs         8807 non-null object\n",
      "modified    8807 non-null object\n",
      "created     8807 non-null object\n",
      "geometry    8807 non-null object\n",
      "dtypes: object(5)\n",
      "memory usage: 344.1+ KB\n",
      "[-89.27773406  40.27186748 -88.44891226  40.76310597]\n"
     ]
    },
    {
     "data": {
      "text/html": [
       "<div>\n",
       "<style scoped>\n",
       "    .dataframe tbody tr th:only-of-type {\n",
       "        vertical-align: middle;\n",
       "    }\n",
       "\n",
       "    .dataframe tbody tr th {\n",
       "        vertical-align: top;\n",
       "    }\n",
       "\n",
       "    .dataframe thead th {\n",
       "        text-align: right;\n",
       "    }\n",
       "</style>\n",
       "<table border=\"1\" class=\"dataframe\">\n",
       "  <thead>\n",
       "    <tr style=\"text-align: right;\">\n",
       "      <th></th>\n",
       "      <th>location</th>\n",
       "      <th>srs</th>\n",
       "      <th>modified</th>\n",
       "      <th>created</th>\n",
       "      <th>geometry</th>\n",
       "    </tr>\n",
       "  </thead>\n",
       "  <tbody>\n",
       "    <tr>\n",
       "      <th>0</th>\n",
       "      <td>/data/lidar/mclean/LAS/864_1370.las</td>\n",
       "      <td>EPSG:3443</td>\n",
       "      <td>2014-03-10T19:50:18</td>\n",
       "      <td>2018-12-13T21:34:22</td>\n",
       "      <td>POLYGON ((-88.76526451751522 40.42767159762371...</td>\n",
       "    </tr>\n",
       "    <tr>\n",
       "      <th>1</th>\n",
       "      <td>/data/lidar/mclean/LAS/806_1432.las</td>\n",
       "      <td>EPSG:3443</td>\n",
       "      <td>2014-03-10T19:17:01</td>\n",
       "      <td>2018-12-13T21:34:22</td>\n",
       "      <td>POLYGON ((-88.97520752537943 40.5968799745779,...</td>\n",
       "    </tr>\n",
       "    <tr>\n",
       "      <th>2</th>\n",
       "      <td>/data/lidar/mclean/LAS/894_1426.las</td>\n",
       "      <td>EPSG:3443</td>\n",
       "      <td>2014-03-10T18:33:07</td>\n",
       "      <td>2018-12-13T21:34:22</td>\n",
       "      <td>POLYGON ((-88.65824901589571 40.58173719422296...</td>\n",
       "    </tr>\n",
       "    <tr>\n",
       "      <th>3</th>\n",
       "      <td>/data/lidar/mclean/LAS/784_1330.las</td>\n",
       "      <td>EPSG:3443</td>\n",
       "      <td>2014-03-10T17:14:35</td>\n",
       "      <td>2018-12-13T21:34:22</td>\n",
       "      <td>POLYGON ((-89.051436432771 40.31645019268065, ...</td>\n",
       "    </tr>\n",
       "    <tr>\n",
       "      <th>4</th>\n",
       "      <td>/data/lidar/mclean/LAS/878_1462.las</td>\n",
       "      <td>EPSG:3443</td>\n",
       "      <td>2014-03-10T17:13:22</td>\n",
       "      <td>2018-12-13T21:34:22</td>\n",
       "      <td>POLYGON ((-88.71641494811547 40.68037368354577...</td>\n",
       "    </tr>\n",
       "  </tbody>\n",
       "</table>\n",
       "</div>"
      ],
      "text/plain": [
       "                              location        srs             modified  \\\n",
       "0  /data/lidar/mclean/LAS/864_1370.las  EPSG:3443  2014-03-10T19:50:18   \n",
       "1  /data/lidar/mclean/LAS/806_1432.las  EPSG:3443  2014-03-10T19:17:01   \n",
       "2  /data/lidar/mclean/LAS/894_1426.las  EPSG:3443  2014-03-10T18:33:07   \n",
       "3  /data/lidar/mclean/LAS/784_1330.las  EPSG:3443  2014-03-10T17:14:35   \n",
       "4  /data/lidar/mclean/LAS/878_1462.las  EPSG:3443  2014-03-10T17:13:22   \n",
       "\n",
       "               created                                           geometry  \n",
       "0  2018-12-13T21:34:22  POLYGON ((-88.76526451751522 40.42767159762371...  \n",
       "1  2018-12-13T21:34:22  POLYGON ((-88.97520752537943 40.5968799745779,...  \n",
       "2  2018-12-13T21:34:22  POLYGON ((-88.65824901589571 40.58173719422296...  \n",
       "3  2018-12-13T21:34:22  POLYGON ((-89.051436432771 40.31645019268065, ...  \n",
       "4  2018-12-13T21:34:22  POLYGON ((-88.71641494811547 40.68037368354577...  "
      ]
     },
     "execution_count": 146,
     "metadata": {},
     "output_type": "execute_result"
    }
   ],
   "source": [
    "%matplotlib inline\n",
    "import geopandas as gpd\n",
    "\n",
    "database = 'lidar/mclean/tiles.gpkg'\n",
    "tindex = gpd.read_file(database)\n",
    "tindex.info()\n",
    "print(tindex.total_bounds)\n",
    "tindex.head()"
   ]
  },
  {
   "cell_type": "code",
   "execution_count": 138,
   "metadata": {},
   "outputs": [
    {
     "data": {
      "text/plain": [
       "array(['EPSG:3443'], dtype=object)"
      ]
     },
     "execution_count": 138,
     "metadata": {},
     "output_type": "execute_result"
    }
   ],
   "source": [
    "import pandas as pd\n",
    "tindex['srs'].unique()"
   ]
  },
  {
   "cell_type": "code",
   "execution_count": 144,
   "metadata": {},
   "outputs": [
    {
     "data": {
      "text/plain": [
       "<matplotlib.axes._subplots.AxesSubplot at 0x7f85d8a69fd0>"
      ]
     },
     "execution_count": 144,
     "metadata": {},
     "output_type": "execute_result"
    },
    {
     "data": {
      "image/png": "[encoded data removed]",
      "text/plain": [
       "<Figure size 864x864 with 1 Axes>"
      ]
     },
     "metadata": {
      "needs_background": "light"
     },
     "output_type": "display_data"
    }
   ],
   "source": [
    "tindex.iloc[0]['geometry'].bounds\n",
    "tindex.plot(figsize=(12.0, 12.0))"
   ]
  },
  {
   "cell_type": "markdown",
   "metadata": {},
   "source": [
    "\n",
    "The following functions were lifted from [StackExchange](https://gis.stackexchange.com/questions/90553/fiona-get-each-feature-extent-bounds) and recursively decend into the coordinates to determine the extents of each feature (ie LAS file)."
   ]
  },
  {
   "cell_type": "code",
   "execution_count": 19,
   "metadata": {},
   "outputs": [],
   "source": [
    "def explode(coords):\n",
    "    for e in coords:\n",
    "        if isinstance(e, (float, int)):\n",
    "            yield coords\n",
    "            break\n",
    "        else:\n",
    "            for f in explode(e):\n",
    "                yield f\n",
    "                \n",
    "def bbox(f):\n",
    "    x, y = zip(*list(explode(f['geometry']['coordinates'])))\n",
    "    return min(x), min(y), max(x), max(y)\n"
   ]
  },
  {
   "cell_type": "code",
   "execution_count": 55,
   "metadata": {},
   "outputs": [
    {
     "name": "stdout",
     "output_type": "stream",
     "text": [
      "/data/lidar/mclean/LAS/864_1370.las\n",
      "-88.76529964177888,40.427671597623714; -88.75808085561759,40.43318795162409\n",
      "\n",
      "projection = EPSG:3443\n",
      "863990.2213460101, 1370000.0478077969\n",
      "/data/lidar/mclean/LAS/806_1432.las\n",
      "-88.97526003397633,40.5968799745779; -88.9680060292617,40.60240916095911\n",
      "\n",
      "projection = EPSG:3443\n",
      "805985.4181421811, 1432000.1063111892\n",
      "/data/lidar/mclean/LAS/894_1426.las\n",
      "-88.65827558188253,40.58173719422296; -88.65104881075173,40.587246880534465\n",
      "\n",
      "projection = EPSG:3443\n",
      "893992.6209030794, 1426000.0272234173\n"
     ]
    }
   ],
   "source": [
    "import fiona\n",
    "import pyproj\n",
    "\n",
    "with fiona.open(dbase) as fc:\n",
    "    for feature in fc.values(3):\n",
    "        print(feature['properties']['location'])\n",
    "        minx, miny, maxx, maxy = bbox(feature)\n",
    "        print(f'{minx},{miny}; {maxx},{maxy}\\n')\n",
    "        \n",
    "        print('projection = {}'.format(feature['properties']['srs']))\n",
    "        proj = pyproj.Proj(\"+init={}\".format(feature['properties']['srs']), preserve_units=True)\n",
    "        \n",
    "        pminx, pminy = proj(minx, miny)\n",
    "        print(f'{pminx}, {pminy}')"
   ]
  },
  {
   "cell_type": "code",
   "execution_count": 57,
   "metadata": {},
   "outputs": [
    {
     "name": "stdout",
     "output_type": "stream",
     "text": [
      "/data/lidar/mclean/LAS/866_1490.las\n",
      "/data/lidar/mclean/LAS/866_1488.las\n",
      "/data/lidar/mclean/LAS/866_1486.las\n",
      "/data/lidar/mclean/LAS/868_1490.las\n",
      "/data/lidar/mclean/LAS/868_1486.las\n",
      "/data/lidar/mclean/LAS/868_1488.las\n",
      "<fiona.ogrext.ItemsIterator object at 0x7f85f42c7a70>\n"
     ]
    }
   ],
   "source": [
    "with fiona.open(dbase) as fc:\n",
    "    #print(len(list(fc.items(bbox=(-88.7655,41.0,-88.750,40.75)))))\n",
    "    for f in fc.values(bbox=(-88.7555,41.0,-88.750,40.75)):\n",
    "        print(f['properties']['location'])"
   ]
  },
  {
   "cell_type": "markdown",
   "metadata": {},
   "source": []
  },
  {
   "cell_type": "code",
   "execution_count": null,
   "metadata": {},
   "outputs": [],
   "source": []
  }
 ],
 "metadata": {
  "kernelspec": {
   "display_name": "Python 3",
   "language": "python",
   "name": "python3"
  },
  "language_info": {
   "codemirror_mode": {
    "name": "ipython",
    "version": 3
   },
   "file_extension": ".py",
   "mimetype": "text/x-python",
   "name": "python",
   "nbconvert_exporter": "python",
   "pygments_lexer": "ipython3",
   "version": "3.6.7"
  }
 },
 "nbformat": 4,
 "nbformat_minor": 2
}
