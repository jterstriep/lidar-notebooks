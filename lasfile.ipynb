{
 "cells": [
  {
   "cell_type": "code",
   "execution_count": 5,
   "metadata": {},
   "outputs": [],
   "source": [
    "\n",
    "from laspy.file import File\n",
    "\n",
    "adams1 = '../lidar/adams/las_classified/1156_2086.las'\n",
    "adams2 = '../lidar/adams/las_classified/2066_1216.las'\n"
   ]
  },
  {
   "cell_type": "code",
   "execution_count": 21,
   "metadata": {},
   "outputs": [
    {
     "name": "stdout",
     "output_type": "stream",
     "text": [
      "GeoTiff Projection Keys\u0000\u0000\u0000\u0000\u0000\u0000\u0000\u0000\u0000 b'\\x01\\x00\\x01\\x00\\x00\\x00\\x17\\x00\\x00\\x04\\x00\\x00\\x01\\x00\\x01\\x00\\x00\\x08\\x00\\x00\\x01\\x00\\xad\\x10\\x01\\x08\\xb1\\x87\\x18\\x00I\\x00\\x02\\x08\\x00\\x00\\x01\\x00}\\x18\\x03\\x08\\x00\\x00\\x01\\x00\\xc5\"\\x06\\x08\\x00\\x00\\x01\\x00\\x8e#\\x07\\x08\\xb0\\x87\\x01\\x00\\t\\x00\\x08\\x08\\x00\\x00\\x01\\x00k\\x1b\\t\\x08\\xb0\\x87\\x01\\x00\\x06\\x00\\x0b\\x08\\xb0\\x87\\x01\\x00\\x07\\x00\\r\\x08\\xb0\\x87\\x01\\x00\\x08\\x00\\x00\\x0c\\x00\\x00\\x01\\x00\\\\i\\x01\\x0c\\xb1\\x871\\x00\\x00\\x00\\x03\\x0c\\x00\\x00\\x01\\x00\\x01\\x00\\x04\\x0c\\x00\\x00\\x01\\x00+#\\x05\\x0c\\xb0\\x87\\x01\\x00\\x05\\x00\\t\\x0c\\xb0\\x87\\x01\\x00\\x04\\x00\\n\\x0c\\xb0\\x87\\x01\\x00\\x00\\x00\\x0b\\x0c\\xb0\\x87\\x01\\x00\\x01\\x00\\x10\\x0c\\xb0\\x87\\x01\\x00\\x02\\x00\\x14\\x0c\\xb0\\x87\\x01\\x00\\x03\\x00\\x01\\x10\\xb1\\x87\\x18\\x001\\x00\\x03\\x10\\x00\\x00\\x01\\x00+#'\n",
      "GeoTiff double parameters\u0000\u0000\u0000\u0000\u0000\u0000\u0000 b'\\xaa\\xaa\\xaa\\xaa\\x83\\x85AA\\x00\\x00\\x00\\x00\\x00\\x00\\x00\\x00\\xab\\xaa\\xaa\\xaa\\xaa\\x8aV\\xc0\\x99\\xad[\\xa3\\x84\\xff\\xef?UUUUUUB@<p\\x82j\\xda\\x81\\xd3?\\x00\\x00\\x00@\\xa6TXA\\xa8\\xf9\\xeb\\x94\\x1d\\xa4r@\\x00\\x00\\x00\\x00\\x00\\x00\\x00\\x009\\x9dR\\xa2F\\xdf\\x91?'\n",
      "GeoTiff ASCII parameters\u0000\u0000\u0000\u0000\u0000\u0000\u0000\u0000 b'NAD_1983_StatePlane_Illinois_West_FIPS_1202_Feet|NAVD88 - Geoid03 (Feet)|GCS_North_American_1983|\\x00'\n",
      "NIIRS10 Timestamp\u0000\u0000\u0000\u0000\u0000\u0000\u0000\u0000\u0000\u0000\u0000\u0000\u0000\u0000\u0000 b'\\x01\\x004\\xa5\\xcc\\x99\\x06\\xc5\\xc9\\x01'\n",
      "NIIRS10 Tile Index\u0000\u0000\u0000\u0000\u0000\u0000\u0000\u0000\u0000\u0000\u0000\u0000\u0000\u0000 b'\\x01\\x00\\x00\\xc9\\x00\\x00\\x00\\xc9\\x00\\x00\\xbf\\xfbn\\x0c\\x00\\x05\\xea\\x06\\x04\\x00\\x04\\x00\\x89\\x03\\x00\\x00'\n"
     ]
    }
   ],
   "source": [
    "las = File(adams1)\n",
    "for v in las.header.vlrs:\n",
    "    print(v.description, v.VLR_body)"
   ]
  },
  {
   "cell_type": "code",
   "execution_count": 24,
   "metadata": {},
   "outputs": [
    {
     "name": "stdout",
     "output_type": "stream",
     "text": [
      "File = ../lidar/adams/las_classified/1156_2086.las\n",
      "GeoTiff Projection Keys\u0000\u0000\u0000\u0000\u0000\u0000\u0000\u0000\u0000 b'\\x01\\x00\\x01\\x00\\x00\\x00\\x17\\x00\\x00\\x04\\x00\\x00\\x01\\x00\\x01\\x00\\x00\\x08\\x00\\x00\\x01\\x00\\xad\\x10\\x01\\x08\\xb1\\x87\\x18\\x00I\\x00\\x02\\x08\\x00\\x00\\x01\\x00}\\x18\\x03\\x08\\x00\\x00\\x01\\x00\\xc5\"\\x06\\x08\\x00\\x00\\x01\\x00\\x8e#\\x07\\x08\\xb0\\x87\\x01\\x00\\t\\x00\\x08\\x08\\x00\\x00\\x01\\x00k\\x1b\\t\\x08\\xb0\\x87\\x01\\x00\\x06\\x00\\x0b\\x08\\xb0\\x87\\x01\\x00\\x07\\x00\\r\\x08\\xb0\\x87\\x01\\x00\\x08\\x00\\x00\\x0c\\x00\\x00\\x01\\x00\\\\i\\x01\\x0c\\xb1\\x871\\x00\\x00\\x00\\x03\\x0c\\x00\\x00\\x01\\x00\\x01\\x00\\x04\\x0c\\x00\\x00\\x01\\x00+#\\x05\\x0c\\xb0\\x87\\x01\\x00\\x05\\x00\\t\\x0c\\xb0\\x87\\x01\\x00\\x04\\x00\\n\\x0c\\xb0\\x87\\x01\\x00\\x00\\x00\\x0b\\x0c\\xb0\\x87\\x01\\x00\\x01\\x00\\x10\\x0c\\xb0\\x87\\x01\\x00\\x02\\x00\\x14\\x0c\\xb0\\x87\\x01\\x00\\x03\\x00\\x01\\x10\\xb1\\x87\\x18\\x001\\x00\\x03\\x10\\x00\\x00\\x01\\x00+#'\n",
      "GeoTiff double parameters\u0000\u0000\u0000\u0000\u0000\u0000\u0000 b'\\xaa\\xaa\\xaa\\xaa\\x83\\x85AA\\x00\\x00\\x00\\x00\\x00\\x00\\x00\\x00\\xab\\xaa\\xaa\\xaa\\xaa\\x8aV\\xc0\\x99\\xad[\\xa3\\x84\\xff\\xef?UUUUUUB@<p\\x82j\\xda\\x81\\xd3?\\x00\\x00\\x00@\\xa6TXA\\xa8\\xf9\\xeb\\x94\\x1d\\xa4r@\\x00\\x00\\x00\\x00\\x00\\x00\\x00\\x009\\x9dR\\xa2F\\xdf\\x91?'\n",
      "GeoTiff ASCII parameters\u0000\u0000\u0000\u0000\u0000\u0000\u0000\u0000 b'NAD_1983_StatePlane_Illinois_West_FIPS_1202_Feet|NAVD88 - Geoid03 (Feet)|GCS_North_American_1983|\\x00'\n",
      "NIIRS10 Timestamp\u0000\u0000\u0000\u0000\u0000\u0000\u0000\u0000\u0000\u0000\u0000\u0000\u0000\u0000\u0000 b'\\x01\\x004\\xa5\\xcc\\x99\\x06\\xc5\\xc9\\x01'\n",
      "NIIRS10 Tile Index\u0000\u0000\u0000\u0000\u0000\u0000\u0000\u0000\u0000\u0000\u0000\u0000\u0000\u0000 b'\\x01\\x00\\x00\\xc9\\x00\\x00\\x00\\xc9\\x00\\x00\\xbf\\xfbn\\x0c\\x00\\x05\\xea\\x06\\x04\\x00\\x04\\x00\\x89\\x03\\x00\\x00'\n",
      "\n",
      "File = ../lidar/adams/las_classified/2066_1216.las\n"
     ]
    }
   ],
   "source": [
    "print(f'File = {adams1}')\n",
    "las = File(adams1)\n",
    "for v in las.header.vlrs:\n",
    "    print(v.description, v.VLR_body)\n",
    "print()\n",
    "    \n",
    "print(f'File = {adams2}')\n",
    "las = File(adams2)\n",
    "for v in las.header.vlrs:\n",
    "    print(v.description, v.VLR_body)"
   ]
  },
  {
   "cell_type": "code",
   "execution_count": null,
   "metadata": {},
   "outputs": [],
   "source": []
  },
  {
   "cell_type": "code",
   "execution_count": null,
   "metadata": {},
   "outputs": [],
   "source": []
  }
 ],
 "metadata": {
  "kernelspec": {
   "display_name": "Python 3",
   "language": "python",
   "name": "python3"
  },
  "language_info": {
   "codemirror_mode": {
    "name": "ipython",
    "version": 3
   },
   "file_extension": ".py",
   "mimetype": "text/x-python",
   "name": "python",
   "nbconvert_exporter": "python",
   "pygments_lexer": "ipython3",
   "version": "3.6.7"
  }
 },
 "nbformat": 4,
 "nbformat_minor": 2
}
