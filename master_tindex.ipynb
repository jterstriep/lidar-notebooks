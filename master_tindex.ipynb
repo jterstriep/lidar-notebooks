{
 "cells": [
  {
   "cell_type": "code",
   "execution_count": 17,
   "metadata": {},
   "outputs": [],
   "source": [
    "import os\n",
    "import geopandas as gpd\n",
    "\n",
    "lidar_dir = '../lidar'\n",
    "counties = sorted(os.listdir(lidar))\n",
    "dbases = [os.path.join(lidar_dir, c, 'tiles.gpkg') for c in counties \n",
    "          if os.path.exists(os.path.join(lidar_dir, c, 'tiles.gpkg'))]\n",
    "#print(dbases)"
   ]
  },
  {
   "cell_type": "code",
   "execution_count": null,
   "metadata": {},
   "outputs": [],
   "source": [
    "def tindex_fix(dbase):\n",
    "    tindex = gdb.read_file(dbase)\n",
    "    tindex[tindex['srs']=='EPSG:4326']\n",
    "    if len(tindex['srs'].unique()) == 0:\n",
    "        "
   ]
  },
  {
   "cell_type": "code",
   "execution_count": 14,
   "metadata": {},
   "outputs": [
    {
     "name": "stdout",
     "output_type": "stream",
     "text": [
      "<class 'geopandas.geodataframe.GeoDataFrame'>\n",
      "RangeIndex: 223328 entries, 0 to 223327\n",
      "Data columns (total 5 columns):\n",
      "location    223328 non-null object\n",
      "srs         223328 non-null object\n",
      "modified    223328 non-null object\n",
      "created     223328 non-null object\n",
      "geometry    223328 non-null object\n",
      "dtypes: object(5)\n",
      "memory usage: 8.5+ MB\n"
     ]
    }
   ],
   "source": [
    "import pandas as pd\n",
    "#counties = ['dewitt', 'mclean', 'piatt']\n",
    "frames = [gpd.read_file(db) for db in dbases]\n",
    "tindex = pd.concat(frames, ignore_index=True)\n",
    "tindex.info()\n"
   ]
  },
  {
   "cell_type": "code",
   "execution_count": 16,
   "metadata": {},
   "outputs": [
    {
     "name": "stdout",
     "output_type": "stream",
     "text": [
      "['+proj=tmerc +lat_0=36.66666666666666 +lon_0=-88.33333333333333 +k=0.9999749999999999 +x_0=300000.0000000001 +y_0=0 +ellps=GRS80 +units=us-ft +vunits=us-ft +no_defs ', '+proj=tmerc +lat_0=36.6666666666667 +lon_0=-88.3333333333333 +k=0.9999749999999999 +x_0=300000.0000000001 +y_0=0 +ellps=GRS80 +units=us-ft +vunits=us-ft +no_defs ', '+proj=tmerc +lat_0=36.6666666666667 +lon_0=-90.1666666666667 +k=0.999941176470588 +x_0=699999.9999999993 +y_0=0 +ellps=GRS80 +units=us-ft +vunits=us-ft +no_defs ', 'EPSG:26916', 'EPSG:26971', 'EPSG:26972', 'EPSG:3443', 'EPSG:3444', 'EPSG:3531', 'EPSG:4326']\n"
     ]
    }
   ],
   "source": [
    "print(sorted(tindex['srs'].unique()))"
   ]
  },
  {
   "cell_type": "code",
   "execution_count": null,
   "metadata": {},
   "outputs": [],
   "source": []
  }
 ],
 "metadata": {
  "kernelspec": {
   "display_name": "Python 3",
   "language": "python",
   "name": "python3"
  },
  "language_info": {
   "codemirror_mode": {
    "name": "ipython",
    "version": 3
   },
   "file_extension": ".py",
   "mimetype": "text/x-python",
   "name": "python",
   "nbconvert_exporter": "python",
   "pygments_lexer": "ipython3",
   "version": "3.6.7"
  }
 },
 "nbformat": 4,
 "nbformat_minor": 2
}
