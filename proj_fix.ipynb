{
 "cells": [
  {
   "cell_type": "code",
   "execution_count": 40,
   "metadata": {},
   "outputs": [
    {
     "name": "stdout",
     "output_type": "stream",
     "text": [
      "<class 'geopandas.geodataframe.GeoDataFrame'>\n",
      "RangeIndex: 6426 entries, 0 to 6425\n",
      "Data columns (total 5 columns):\n",
      "location    6426 non-null object\n",
      "srs         6426 non-null object\n",
      "modified    6426 non-null object\n",
      "created     6426 non-null object\n",
      "geometry    6426 non-null object\n",
      "dtypes: object(5)\n",
      "memory usage: 251.1+ KB\n",
      "{'init': 'epsg:4326'} ['EPSG:26972' 'EPSG:4326']\n"
     ]
    },
    {
     "data": {
      "text/plain": [
       "<matplotlib.axes._subplots.AxesSubplot at 0x7fb4254f7c88>"
      ]
     },
     "execution_count": 40,
     "metadata": {},
     "output_type": "execute_result"
    },
    {
     "data": {
      "image/png": "[encoded data removed]",
      "text/plain": [
       "<Figure size 432x288 with 1 Axes>"
      ]
     },
     "metadata": {
      "needs_background": "light"
     },
     "output_type": "display_data"
    }
   ],
   "source": [
    "%matplotlib inline\n",
    "import geopandas as gpd\n",
    "\n",
    "df = gpd.read_file('adams.gpkg')\n",
    "df.info()\n",
    "print(df.crs, df['srs'].unique())\n",
    "df.plot()"
   ]
  },
  {
   "cell_type": "code",
   "execution_count": 41,
   "metadata": {},
   "outputs": [
    {
     "data": {
      "text/html": [
       "<div>\n",
       "<style scoped>\n",
       "    .dataframe tbody tr th:only-of-type {\n",
       "        vertical-align: middle;\n",
       "    }\n",
       "\n",
       "    .dataframe tbody tr th {\n",
       "        vertical-align: top;\n",
       "    }\n",
       "\n",
       "    .dataframe thead th {\n",
       "        text-align: right;\n",
       "    }\n",
       "</style>\n",
       "<table border=\"1\" class=\"dataframe\">\n",
       "  <thead>\n",
       "    <tr style=\"text-align: right;\">\n",
       "      <th></th>\n",
       "      <th>location</th>\n",
       "      <th>srs</th>\n",
       "      <th>modified</th>\n",
       "      <th>created</th>\n",
       "      <th>geometry</th>\n",
       "    </tr>\n",
       "  </thead>\n",
       "  <tbody>\n",
       "    <tr>\n",
       "      <th>0</th>\n",
       "      <td>/data/lidar/adams/las_classified/1280_1930.las</td>\n",
       "      <td>EPSG:26972</td>\n",
       "      <td>2009-10-20T00:37:09</td>\n",
       "      <td>2018-12-13T21:46:57</td>\n",
       "      <td>POLYGON ((-91.47852667224002 40.17411279626138...</td>\n",
       "    </tr>\n",
       "    <tr>\n",
       "      <th>1</th>\n",
       "      <td>/data/lidar/adams/las_classified/1156_2086.las</td>\n",
       "      <td>EPSG:26972</td>\n",
       "      <td>2009-10-19T22:34:02</td>\n",
       "      <td>2018-12-13T21:46:57</td>\n",
       "      <td>POLYGON ((-90.91659129758993 39.83871065542411...</td>\n",
       "    </tr>\n",
       "    <tr>\n",
       "      <th>4</th>\n",
       "      <td>/data/lidar/adams/las_classified/1240_1992.las</td>\n",
       "      <td>EPSG:26972</td>\n",
       "      <td>2009-10-19T23:15:51</td>\n",
       "      <td>2018-12-13T21:46:57</td>\n",
       "      <td>POLYGON ((-91.25494238878736 40.06662605018638...</td>\n",
       "    </tr>\n",
       "    <tr>\n",
       "      <th>5</th>\n",
       "      <td>/data/lidar/adams/las_classified/1158_2038.las</td>\n",
       "      <td>EPSG:26972</td>\n",
       "      <td>2009-10-19T22:36:31</td>\n",
       "      <td>2018-12-13T21:46:57</td>\n",
       "      <td>POLYGON ((-91.08758222031362 39.84296981592355...</td>\n",
       "    </tr>\n",
       "    <tr>\n",
       "      <th>6</th>\n",
       "      <td>/data/lidar/adams/las_classified/1126_2046.las</td>\n",
       "      <td>EPSG:26972</td>\n",
       "      <td>2009-10-19T21:41:56</td>\n",
       "      <td>2018-12-13T21:46:57</td>\n",
       "      <td>POLYGON ((-91.05795973768863 39.75535188608443...</td>\n",
       "    </tr>\n",
       "  </tbody>\n",
       "</table>\n",
       "</div>"
      ],
      "text/plain": [
       "                                         location         srs  \\\n",
       "0  /data/lidar/adams/las_classified/1280_1930.las  EPSG:26972   \n",
       "1  /data/lidar/adams/las_classified/1156_2086.las  EPSG:26972   \n",
       "4  /data/lidar/adams/las_classified/1240_1992.las  EPSG:26972   \n",
       "5  /data/lidar/adams/las_classified/1158_2038.las  EPSG:26972   \n",
       "6  /data/lidar/adams/las_classified/1126_2046.las  EPSG:26972   \n",
       "\n",
       "              modified              created  \\\n",
       "0  2009-10-20T00:37:09  2018-12-13T21:46:57   \n",
       "1  2009-10-19T22:34:02  2018-12-13T21:46:57   \n",
       "4  2009-10-19T23:15:51  2018-12-13T21:46:57   \n",
       "5  2009-10-19T22:36:31  2018-12-13T21:46:57   \n",
       "6  2009-10-19T21:41:56  2018-12-13T21:46:57   \n",
       "\n",
       "                                            geometry  \n",
       "0  POLYGON ((-91.47852667224002 40.17411279626138...  \n",
       "1  POLYGON ((-90.91659129758993 39.83871065542411...  \n",
       "4  POLYGON ((-91.25494238878736 40.06662605018638...  \n",
       "5  POLYGON ((-91.08758222031362 39.84296981592355...  \n",
       "6  POLYGON ((-91.05795973768863 39.75535188608443...  "
      ]
     },
     "execution_count": 41,
     "metadata": {},
     "output_type": "execute_result"
    }
   ],
   "source": [
    "df[df['srs']!='EPSG:4326'].head()"
   ]
  },
  {
   "cell_type": "code",
   "execution_count": 42,
   "metadata": {},
   "outputs": [
    {
     "data": {
      "text/html": [
       "<div>\n",
       "<style scoped>\n",
       "    .dataframe tbody tr th:only-of-type {\n",
       "        vertical-align: middle;\n",
       "    }\n",
       "\n",
       "    .dataframe tbody tr th {\n",
       "        vertical-align: top;\n",
       "    }\n",
       "\n",
       "    .dataframe thead th {\n",
       "        text-align: right;\n",
       "    }\n",
       "</style>\n",
       "<table border=\"1\" class=\"dataframe\">\n",
       "  <thead>\n",
       "    <tr style=\"text-align: right;\">\n",
       "      <th></th>\n",
       "      <th>location</th>\n",
       "      <th>srs</th>\n",
       "      <th>modified</th>\n",
       "      <th>created</th>\n",
       "      <th>geometry</th>\n",
       "    </tr>\n",
       "  </thead>\n",
       "  <tbody>\n",
       "    <tr>\n",
       "      <th>2</th>\n",
       "      <td>/data/lidar/adams/las_classified/2066_1216.las</td>\n",
       "      <td>EPSG:4326</td>\n",
       "      <td>2009-10-19T23:56:13</td>\n",
       "      <td>2018-12-13T21:46:57</td>\n",
       "      <td>POLYGON ((2065999.99 1216000, 2065999.99 12179...</td>\n",
       "    </tr>\n",
       "    <tr>\n",
       "      <th>3</th>\n",
       "      <td>/data/lidar/adams/las_classified/1966_1234.las</td>\n",
       "      <td>EPSG:4326</td>\n",
       "      <td>2009-10-19T22:18:49</td>\n",
       "      <td>2018-12-13T21:46:57</td>\n",
       "      <td>POLYGON ((1966000.01 1234000, 1966000.01 12359...</td>\n",
       "    </tr>\n",
       "    <tr>\n",
       "      <th>7</th>\n",
       "      <td>/data/lidar/adams/las_classified/2060_1228.las</td>\n",
       "      <td>EPSG:4326</td>\n",
       "      <td>2009-10-19T23:51:00</td>\n",
       "      <td>2018-12-13T21:46:57</td>\n",
       "      <td>POLYGON ((2060000 1228000.01, 2060000 1229999....</td>\n",
       "    </tr>\n",
       "    <tr>\n",
       "      <th>10</th>\n",
       "      <td>/data/lidar/adams/las_classified/1982_1188.las</td>\n",
       "      <td>EPSG:4326</td>\n",
       "      <td>2009-10-19T22:34:25</td>\n",
       "      <td>2018-12-13T21:46:57</td>\n",
       "      <td>POLYGON ((1982000 1188000.01, 1982000 1189999....</td>\n",
       "    </tr>\n",
       "    <tr>\n",
       "      <th>18</th>\n",
       "      <td>/data/lidar/adams/las_classified/1974_1188.las</td>\n",
       "      <td>EPSG:4326</td>\n",
       "      <td>2009-10-19T22:26:13</td>\n",
       "      <td>2018-12-13T21:46:57</td>\n",
       "      <td>POLYGON ((1973999.99 1188000, 1973999.99 11899...</td>\n",
       "    </tr>\n",
       "  </tbody>\n",
       "</table>\n",
       "</div>"
      ],
      "text/plain": [
       "                                          location        srs  \\\n",
       "2   /data/lidar/adams/las_classified/2066_1216.las  EPSG:4326   \n",
       "3   /data/lidar/adams/las_classified/1966_1234.las  EPSG:4326   \n",
       "7   /data/lidar/adams/las_classified/2060_1228.las  EPSG:4326   \n",
       "10  /data/lidar/adams/las_classified/1982_1188.las  EPSG:4326   \n",
       "18  /data/lidar/adams/las_classified/1974_1188.las  EPSG:4326   \n",
       "\n",
       "               modified              created  \\\n",
       "2   2009-10-19T23:56:13  2018-12-13T21:46:57   \n",
       "3   2009-10-19T22:18:49  2018-12-13T21:46:57   \n",
       "7   2009-10-19T23:51:00  2018-12-13T21:46:57   \n",
       "10  2009-10-19T22:34:25  2018-12-13T21:46:57   \n",
       "18  2009-10-19T22:26:13  2018-12-13T21:46:57   \n",
       "\n",
       "                                             geometry  \n",
       "2   POLYGON ((2065999.99 1216000, 2065999.99 12179...  \n",
       "3   POLYGON ((1966000.01 1234000, 1966000.01 12359...  \n",
       "7   POLYGON ((2060000 1228000.01, 2060000 1229999....  \n",
       "10  POLYGON ((1982000 1188000.01, 1982000 1189999....  \n",
       "18  POLYGON ((1973999.99 1188000, 1973999.99 11899...  "
      ]
     },
     "execution_count": 42,
     "metadata": {},
     "output_type": "execute_result"
    }
   ],
   "source": [
    "badproj = df[df['srs']=='EPSG:4326']\n",
    "badproj.crs = {'init': 'EPSG:3444'}\n",
    "badproj.head()"
   ]
  },
  {
   "cell_type": "code",
   "execution_count": 43,
   "metadata": {},
   "outputs": [
    {
     "data": {
      "text/html": [
       "<div>\n",
       "<style scoped>\n",
       "    .dataframe tbody tr th:only-of-type {\n",
       "        vertical-align: middle;\n",
       "    }\n",
       "\n",
       "    .dataframe tbody tr th {\n",
       "        vertical-align: top;\n",
       "    }\n",
       "\n",
       "    .dataframe thead th {\n",
       "        text-align: right;\n",
       "    }\n",
       "</style>\n",
       "<table border=\"1\" class=\"dataframe\">\n",
       "  <thead>\n",
       "    <tr style=\"text-align: right;\">\n",
       "      <th></th>\n",
       "      <th>location</th>\n",
       "      <th>srs</th>\n",
       "      <th>modified</th>\n",
       "      <th>created</th>\n",
       "      <th>geometry</th>\n",
       "    </tr>\n",
       "  </thead>\n",
       "  <tbody>\n",
       "    <tr>\n",
       "      <th>2</th>\n",
       "      <td>/data/lidar/adams/las_classified/2066_1216.las</td>\n",
       "      <td>EPSG:3444</td>\n",
       "      <td>2009-10-19T23:56:13</td>\n",
       "      <td>2018-12-13T21:46:57</td>\n",
       "      <td>POLYGON ((-90.98977805630592 40.0029290734882,...</td>\n",
       "    </tr>\n",
       "    <tr>\n",
       "      <th>3</th>\n",
       "      <td>/data/lidar/adams/las_classified/1966_1234.las</td>\n",
       "      <td>EPSG:3444</td>\n",
       "      <td>2009-10-19T22:18:49</td>\n",
       "      <td>2018-12-13T21:46:57</td>\n",
       "      <td>POLYGON ((-91.34753807035025 40.04924836807506...</td>\n",
       "    </tr>\n",
       "    <tr>\n",
       "      <th>7</th>\n",
       "      <td>/data/lidar/adams/las_classified/2060_1228.las</td>\n",
       "      <td>EPSG:3444</td>\n",
       "      <td>2009-10-19T23:51:00</td>\n",
       "      <td>2018-12-13T21:46:57</td>\n",
       "      <td>POLYGON ((-91.0116002011097 40.03571439480291,...</td>\n",
       "    </tr>\n",
       "    <tr>\n",
       "      <th>10</th>\n",
       "      <td>/data/lidar/adams/las_classified/1982_1188.las</td>\n",
       "      <td>EPSG:3444</td>\n",
       "      <td>2009-10-19T22:34:25</td>\n",
       "      <td>2018-12-13T21:46:57</td>\n",
       "      <td>POLYGON ((-91.28832837292254 39.92355897228033...</td>\n",
       "    </tr>\n",
       "    <tr>\n",
       "      <th>18</th>\n",
       "      <td>/data/lidar/adams/las_classified/1974_1188.las</td>\n",
       "      <td>EPSG:3444</td>\n",
       "      <td>2009-10-19T22:26:13</td>\n",
       "      <td>2018-12-13T21:46:57</td>\n",
       "      <td>POLYGON ((-91.31684743385061 39.92327952879813...</td>\n",
       "    </tr>\n",
       "  </tbody>\n",
       "</table>\n",
       "</div>"
      ],
      "text/plain": [
       "                                          location        srs  \\\n",
       "2   /data/lidar/adams/las_classified/2066_1216.las  EPSG:3444   \n",
       "3   /data/lidar/adams/las_classified/1966_1234.las  EPSG:3444   \n",
       "7   /data/lidar/adams/las_classified/2060_1228.las  EPSG:3444   \n",
       "10  /data/lidar/adams/las_classified/1982_1188.las  EPSG:3444   \n",
       "18  /data/lidar/adams/las_classified/1974_1188.las  EPSG:3444   \n",
       "\n",
       "               modified              created  \\\n",
       "2   2009-10-19T23:56:13  2018-12-13T21:46:57   \n",
       "3   2009-10-19T22:18:49  2018-12-13T21:46:57   \n",
       "7   2009-10-19T23:51:00  2018-12-13T21:46:57   \n",
       "10  2009-10-19T22:34:25  2018-12-13T21:46:57   \n",
       "18  2009-10-19T22:26:13  2018-12-13T21:46:57   \n",
       "\n",
       "                                             geometry  \n",
       "2   POLYGON ((-90.98977805630592 40.0029290734882,...  \n",
       "3   POLYGON ((-91.34753807035025 40.04924836807506...  \n",
       "7   POLYGON ((-91.0116002011097 40.03571439480291,...  \n",
       "10  POLYGON ((-91.28832837292254 39.92355897228033...  \n",
       "18  POLYGON ((-91.31684743385061 39.92327952879813...  "
      ]
     },
     "execution_count": 43,
     "metadata": {},
     "output_type": "execute_result"
    }
   ],
   "source": [
    "badproj = badproj.to_crs({'init': 'EPSG:4326'})\n",
    "badproj['srs'] = 'EPSG:3444'\n",
    "badproj.head()"
   ]
  },
  {
   "cell_type": "code",
   "execution_count": 44,
   "metadata": {},
   "outputs": [
    {
     "data": {
      "text/html": [
       "<div>\n",
       "<style scoped>\n",
       "    .dataframe tbody tr th:only-of-type {\n",
       "        vertical-align: middle;\n",
       "    }\n",
       "\n",
       "    .dataframe tbody tr th {\n",
       "        vertical-align: top;\n",
       "    }\n",
       "\n",
       "    .dataframe thead th {\n",
       "        text-align: right;\n",
       "    }\n",
       "</style>\n",
       "<table border=\"1\" class=\"dataframe\">\n",
       "  <thead>\n",
       "    <tr style=\"text-align: right;\">\n",
       "      <th></th>\n",
       "      <th>location</th>\n",
       "      <th>srs</th>\n",
       "      <th>modified</th>\n",
       "      <th>created</th>\n",
       "      <th>geometry</th>\n",
       "    </tr>\n",
       "  </thead>\n",
       "  <tbody>\n",
       "    <tr>\n",
       "      <th>0</th>\n",
       "      <td>/data/lidar/adams/las_classified/1280_1930.las</td>\n",
       "      <td>EPSG:26972</td>\n",
       "      <td>2009-10-20T00:37:09</td>\n",
       "      <td>2018-12-13T21:46:57</td>\n",
       "      <td>POLYGON ((-91.47852667224002 40.17411279626138...</td>\n",
       "    </tr>\n",
       "    <tr>\n",
       "      <th>1</th>\n",
       "      <td>/data/lidar/adams/las_classified/1156_2086.las</td>\n",
       "      <td>EPSG:26972</td>\n",
       "      <td>2009-10-19T22:34:02</td>\n",
       "      <td>2018-12-13T21:46:57</td>\n",
       "      <td>POLYGON ((-90.91659129758993 39.83871065542411...</td>\n",
       "    </tr>\n",
       "    <tr>\n",
       "      <th>2</th>\n",
       "      <td>/data/lidar/adams/las_classified/2066_1216.las</td>\n",
       "      <td>EPSG:3444</td>\n",
       "      <td>2009-10-19T23:56:13</td>\n",
       "      <td>2018-12-13T21:46:57</td>\n",
       "      <td>POLYGON ((-90.98977805630592 40.0029290734882,...</td>\n",
       "    </tr>\n",
       "    <tr>\n",
       "      <th>3</th>\n",
       "      <td>/data/lidar/adams/las_classified/1966_1234.las</td>\n",
       "      <td>EPSG:3444</td>\n",
       "      <td>2009-10-19T22:18:49</td>\n",
       "      <td>2018-12-13T21:46:57</td>\n",
       "      <td>POLYGON ((-91.34753807035025 40.04924836807506...</td>\n",
       "    </tr>\n",
       "    <tr>\n",
       "      <th>4</th>\n",
       "      <td>/data/lidar/adams/las_classified/1240_1992.las</td>\n",
       "      <td>EPSG:26972</td>\n",
       "      <td>2009-10-19T23:15:51</td>\n",
       "      <td>2018-12-13T21:46:57</td>\n",
       "      <td>POLYGON ((-91.25494238878736 40.06662605018638...</td>\n",
       "    </tr>\n",
       "  </tbody>\n",
       "</table>\n",
       "</div>"
      ],
      "text/plain": [
       "                                         location         srs  \\\n",
       "0  /data/lidar/adams/las_classified/1280_1930.las  EPSG:26972   \n",
       "1  /data/lidar/adams/las_classified/1156_2086.las  EPSG:26972   \n",
       "2  /data/lidar/adams/las_classified/2066_1216.las   EPSG:3444   \n",
       "3  /data/lidar/adams/las_classified/1966_1234.las   EPSG:3444   \n",
       "4  /data/lidar/adams/las_classified/1240_1992.las  EPSG:26972   \n",
       "\n",
       "              modified              created  \\\n",
       "0  2009-10-20T00:37:09  2018-12-13T21:46:57   \n",
       "1  2009-10-19T22:34:02  2018-12-13T21:46:57   \n",
       "2  2009-10-19T23:56:13  2018-12-13T21:46:57   \n",
       "3  2009-10-19T22:18:49  2018-12-13T21:46:57   \n",
       "4  2009-10-19T23:15:51  2018-12-13T21:46:57   \n",
       "\n",
       "                                            geometry  \n",
       "0  POLYGON ((-91.47852667224002 40.17411279626138...  \n",
       "1  POLYGON ((-90.91659129758993 39.83871065542411...  \n",
       "2  POLYGON ((-90.98977805630592 40.0029290734882,...  \n",
       "3  POLYGON ((-91.34753807035025 40.04924836807506...  \n",
       "4  POLYGON ((-91.25494238878736 40.06662605018638...  "
      ]
     },
     "execution_count": 44,
     "metadata": {},
     "output_type": "execute_result"
    }
   ],
   "source": [
    "df[df['srs']=='EPSG:4326'] = badproj\n",
    "df.head()"
   ]
  },
  {
   "cell_type": "code",
   "execution_count": 45,
   "metadata": {},
   "outputs": [
    {
     "data": {
      "text/plain": [
       "<matplotlib.axes._subplots.AxesSubplot at 0x7fb4250ed438>"
      ]
     },
     "execution_count": 45,
     "metadata": {},
     "output_type": "execute_result"
    },
    {
     "data": {
      "image/png": "[encoded data removed]",
      "text/plain": [
       "<Figure size 432x288 with 1 Axes>"
      ]
     },
     "metadata": {
      "needs_background": "light"
     },
     "output_type": "display_data"
    }
   ],
   "source": [
    "df.plot()"
   ]
  },
  {
   "cell_type": "code",
   "execution_count": 46,
   "metadata": {},
   "outputs": [],
   "source": [
    "df.to_file('adams_fix.gpkg', driver='GPKG')"
   ]
  },
  {
   "cell_type": "code",
   "execution_count": null,
   "metadata": {},
   "outputs": [],
   "source": []
  }
 ],
 "metadata": {
  "kernelspec": {
   "display_name": "Python 3",
   "language": "python",
   "name": "python3"
  },
  "language_info": {
   "codemirror_mode": {
    "name": "ipython",
    "version": 3
   },
   "file_extension": ".py",
   "mimetype": "text/x-python",
   "name": "python",
   "nbconvert_exporter": "python",
   "pygments_lexer": "ipython3",
   "version": "3.6.7"
  }
 },
 "nbformat": 4,
 "nbformat_minor": 2
}
