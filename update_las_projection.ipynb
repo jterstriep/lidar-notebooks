{
 "cells": [
  {
   "cell_type": "markdown",
   "metadata": {},
   "source": [
    "# Update LAS File with Bad Projection VLRs\n",
    "In addition to the lack of projection information in some LAS files (that was fixed in the proj_fix.ipynb)\n",
    "some LAS tiles had total incorrect projection information. This utility updates the VLR information to\n",
    "contain a projection information for a correct LAS tile.\n",
    "\n",
    "__NOTE: This code is extremely specific to this problem but shows the approach should be adaptable.__"
   ]
  },
  {
   "cell_type": "code",
   "execution_count": 25,
   "metadata": {},
   "outputs": [],
   "source": [
    "import os\n",
    "import copy\n",
    "import geopandas as gpd\n",
    "from laspy.file import File"
   ]
  },
  {
   "cell_type": "code",
   "execution_count": 26,
   "metadata": {},
   "outputs": [
    {
     "data": {
      "text/html": [
       "<div>\n",
       "<style scoped>\n",
       "    .dataframe tbody tr th:only-of-type {\n",
       "        vertical-align: middle;\n",
       "    }\n",
       "\n",
       "    .dataframe tbody tr th {\n",
       "        vertical-align: top;\n",
       "    }\n",
       "\n",
       "    .dataframe thead th {\n",
       "        text-align: right;\n",
       "    }\n",
       "</style>\n",
       "<table border=\"1\" class=\"dataframe\">\n",
       "  <thead>\n",
       "    <tr style=\"text-align: right;\">\n",
       "      <th></th>\n",
       "      <th>location</th>\n",
       "      <th>srs</th>\n",
       "      <th>modified</th>\n",
       "      <th>created</th>\n",
       "      <th>geometry</th>\n",
       "    </tr>\n",
       "  </thead>\n",
       "  <tbody>\n",
       "    <tr>\n",
       "      <th>2148</th>\n",
       "      <td>/data/isgs/lidar/cumberland/las/960_968.las</td>\n",
       "      <td>EPSG:3444</td>\n",
       "      <td>2013-05-08T19:20:06</td>\n",
       "      <td>2018-12-13T21:45:11</td>\n",
       "      <td>POLYGON ((-94.8839925776402 39.22932909521189,...</td>\n",
       "    </tr>\n",
       "    <tr>\n",
       "      <th>2545</th>\n",
       "      <td>/data/isgs/lidar/cumberland/las/958_968.las</td>\n",
       "      <td>EPSG:3444</td>\n",
       "      <td>2013-05-08T19:20:58</td>\n",
       "      <td>2018-12-13T21:45:13</td>\n",
       "      <td>POLYGON ((-94.89102894452813 39.22904327813905...</td>\n",
       "    </tr>\n",
       "  </tbody>\n",
       "</table>\n",
       "</div>"
      ],
      "text/plain": [
       "                                         location        srs  \\\n",
       "2148  /data/isgs/lidar/cumberland/las/960_968.las  EPSG:3444   \n",
       "2545  /data/isgs/lidar/cumberland/las/958_968.las  EPSG:3444   \n",
       "\n",
       "                 modified              created  \\\n",
       "2148  2013-05-08T19:20:06  2018-12-13T21:45:11   \n",
       "2545  2013-05-08T19:20:58  2018-12-13T21:45:13   \n",
       "\n",
       "                                               geometry  \n",
       "2148  POLYGON ((-94.8839925776402 39.22932909521189,...  \n",
       "2545  POLYGON ((-94.89102894452813 39.22904327813905...  "
      ]
     },
     "execution_count": 26,
     "metadata": {},
     "output_type": "execute_result"
    }
   ],
   "source": [
    "df = gpd.read_file('../lidar/cumberland/tiles.gpkg')\n",
    "\n",
    "# read the first tile (assuming its good)\n",
    "f = File(df.loc[0,'location'].replace('/data/isgs', '..'))\n",
    "good_vlrs = good.header.vlrs\n",
    "f.close()\n",
    "\n",
    "bad_epsg = df[df['srs'] == 'EPSG:3444']\n",
    "bad_epsg.head()"
   ]
  },
  {
   "cell_type": "code",
   "execution_count": 38,
   "metadata": {},
   "outputs": [
    {
     "data": {
      "text/plain": [
       "2148    ../fix/960_968.las\n",
       "2545    ../fix/958_968.las\n",
       "Name: location, dtype: object"
      ]
     },
     "execution_count": 38,
     "metadata": {},
     "output_type": "execute_result"
    }
   ],
   "source": [
    "def fix(loc):\n",
    "    path = os.path.join('../fix', os.path.basename(loc))\n",
    "    os.system('cp {} {}'.format(loc.replace('/data/isgs','..'), path))\n",
    "    \n",
    "    bad = File(path, mode='rw')\n",
    "    vlrs = copy.copy(bad.header.vlrs)\n",
    "    vlrs[0] = good_vlrs[0]\n",
    "    vlrs[1] = good_vlrs[1]\n",
    "    vlrs[2] = good_vlrs[2]\n",
    "    bad.header.vlrs = vlrs\n",
    "    bad.close()\n",
    "    return path\n",
    "\n",
    "bad_epsg['location'].apply(fix)"
   ]
  },
  {
   "cell_type": "code",
   "execution_count": null,
   "metadata": {},
   "outputs": [],
   "source": []
  }
 ],
 "metadata": {
  "kernelspec": {
   "display_name": "Python 3",
   "language": "python",
   "name": "python3"
  },
  "language_info": {
   "codemirror_mode": {
    "name": "ipython",
    "version": 3
   },
   "file_extension": ".py",
   "mimetype": "text/x-python",
   "name": "python",
   "nbconvert_exporter": "python",
   "pygments_lexer": "ipython3",
   "version": "3.6.7"
  }
 },
 "nbformat": 4,
 "nbformat_minor": 2
}
